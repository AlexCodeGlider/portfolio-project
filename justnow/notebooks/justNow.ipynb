{
 "cells": [
  {
   "cell_type": "code",
   "execution_count": 170,
   "metadata": {
    "ExecuteTime": {
     "end_time": "2021-01-09T22:54:33.614496Z",
     "start_time": "2021-01-09T22:54:33.604521Z"
    }
   },
   "outputs": [],
   "source": [
    "import requests\n",
    "import json\n",
    "import time\n",
    "import pandas as pd\n",
    "import numpy as np\n",
    "import re"
   ]
  },
  {
   "cell_type": "code",
   "execution_count": 172,
   "metadata": {
    "ExecuteTime": {
     "end_time": "2021-01-09T22:55:59.876688Z",
     "start_time": "2021-01-09T22:54:49.848156Z"
    }
   },
   "outputs": [
    {
     "name": "stdout",
     "output_type": "stream",
     "text": [
      "Enter a search termMia and the White Lion\n"
     ]
    }
   ],
   "source": [
    "searchTerm = input('Enter a search term')\n",
    "\n",
    "locs = ['en_US',\n",
    "        'en_CA',\n",
    "        'es_MX',\n",
    "        'es_AR',\n",
    "        'pt_BR',\n",
    "        'es_CL',\n",
    "        'es_CO',\n",
    "        'es_EC',\n",
    "        'es_PE',\n",
    "        'es_VE',\n",
    "        'en_IN',\n",
    "        'en_ID',\n",
    "        'ja_JP',\n",
    "        'en_MY',\n",
    "        'en_PH',\n",
    "        'en_SG',\n",
    "        'ko_KR',\n",
    "        'en_TH',\n",
    "        'tr_TR',\n",
    "        'de_AT',\n",
    "        'fr_BE',\n",
    "        'cs_CZ',\n",
    "        'en_DK',\n",
    "        'en_EE',\n",
    "        'fi_FI',\n",
    "        'fr_FR',\n",
    "        'de_DE',\n",
    "        'el_GR',\n",
    "        'hu_HU',\n",
    "        'en_IE',\n",
    "        'it_IT',\n",
    "        'en_LV',\n",
    "        'en_LT',\n",
    "        'en_NL',\n",
    "        'en_NO',\n",
    "        'pl_PL',\n",
    "        'pt_PT',\n",
    "        'ro_RO',\n",
    "        'ru_RU',\n",
    "        'es_ES',\n",
    "        'en_SE',\n",
    "        'de_CH',\n",
    "        'en_GB',\n",
    "        'en_AU',\n",
    "        'en_NZ',\n",
    "        'en_ZA'        \n",
    "       ]\n",
    "\n",
    "data = {}\n",
    "\n",
    "for loc in locs:\n",
    "    res = requests.get('https://apis.justwatch.com/content/titles/'+loc+'/popular?language=en&body=%7B%22page_size%22:10,%22page%22:1,%22query%22:%22'+searchTerm+'%22%7D')\n",
    "    res.raise_for_status()\n",
    "    data[loc] = json.loads(res.text)\n",
    "    time.sleep(0.5)"
   ]
  },
  {
   "cell_type": "code",
   "execution_count": 173,
   "metadata": {
    "ExecuteTime": {
     "end_time": "2021-01-09T22:56:04.222020Z",
     "start_time": "2021-01-09T22:56:03.558492Z"
    }
   },
   "outputs": [],
   "source": [
    "clean_data = pd.DataFrame(columns=['jw_id', 'Title', 'Territory', 'Offers'])\n",
    "\n",
    "for loc in locs:\n",
    "    for title in range(len(data[loc]['items'])):\n",
    "        try:\n",
    "            row = pd.DataFrame([[data[loc]['items'][title]['id'], data[loc]['items'][title]['title'], loc, data[loc]['items'][title]['offers']]], columns=['jw_id', 'Title', 'Territory', 'Offers'])\n",
    "            clean_data = clean_data.append(row, ignore_index=True)\n",
    "        except KeyError:\n",
    "            pass"
   ]
  },
  {
   "cell_type": "code",
   "execution_count": 174,
   "metadata": {
    "ExecuteTime": {
     "end_time": "2021-01-09T22:56:04.708404Z",
     "start_time": "2021-01-09T22:56:04.694577Z"
    }
   },
   "outputs": [],
   "source": [
    "clean_data['SVOD'] = pd.Series()\n",
    "clean_data['SVOD'] = clean_data['SVOD'].fillna('')"
   ]
  },
  {
   "cell_type": "code",
   "execution_count": 176,
   "metadata": {
    "ExecuteTime": {
     "end_time": "2021-01-09T22:57:14.639236Z",
     "start_time": "2021-01-09T22:57:14.356592Z"
    }
   },
   "outputs": [],
   "source": [
    "pattern = re.compile(r'\\.\\w+\\.')\n",
    "\n",
    "for row in range(clean_data.shape[0]):\n",
    "    for offer in clean_data.loc[row]['Offers']:\n",
    "        if offer['monetization_type'] == 'flatrate':\n",
    "            try:\n",
    "                clean_data['SVOD'].loc[row] += pattern.search(offer['urls']['standard_web']).group(0).strip('.')+\"|\"\n",
    "            except AttributeError:\n",
    "                pass"
   ]
  },
  {
   "cell_type": "code",
   "execution_count": 177,
   "metadata": {
    "ExecuteTime": {
     "end_time": "2021-01-09T22:57:15.813738Z",
     "start_time": "2021-01-09T22:57:15.802765Z"
    }
   },
   "outputs": [],
   "source": [
    "clean_data['SVOD'] = clean_data['SVOD'].apply(lambda x: set(x.split('|')))"
   ]
  },
  {
   "cell_type": "code",
   "execution_count": 178,
   "metadata": {
    "ExecuteTime": {
     "end_time": "2021-01-09T22:57:16.468396Z",
     "start_time": "2021-01-09T22:57:16.450415Z"
    }
   },
   "outputs": [],
   "source": [
    "clean_data['SVOD'] = clean_data['SVOD'].apply(lambda x: str(x).strip('{}'))"
   ]
  },
  {
   "cell_type": "code",
   "execution_count": 179,
   "metadata": {
    "ExecuteTime": {
     "end_time": "2021-01-09T22:57:16.951718Z",
     "start_time": "2021-01-09T22:57:16.940719Z"
    }
   },
   "outputs": [],
   "source": [
    "clean_data['SVOD'] = clean_data['SVOD'].apply(lambda x: str(x).replace(\"\\'\", \"\"))"
   ]
  },
  {
   "cell_type": "code",
   "execution_count": 180,
   "metadata": {
    "ExecuteTime": {
     "end_time": "2021-01-09T22:57:17.563933Z",
     "start_time": "2021-01-09T22:57:17.550937Z"
    }
   },
   "outputs": [],
   "source": [
    "clean_data['SVOD'] = clean_data['SVOD'].apply(lambda x: str(x).strip(','))"
   ]
  },
  {
   "cell_type": "code",
   "execution_count": 181,
   "metadata": {
    "ExecuteTime": {
     "end_time": "2021-01-09T22:57:18.359196Z",
     "start_time": "2021-01-09T22:57:18.325338Z"
    }
   },
   "outputs": [],
   "source": [
    "territory_map = {'en_US': 'USA',\n",
    "                'en_CA': 'Canada',\n",
    "                'es_MX': 'Mexico',\n",
    "                'es_AR': 'Argentina',\n",
    "                'pt_BR': 'Brazil',\n",
    "                'es_CL': 'Chile',\n",
    "                'es_CO': 'Colombia',\n",
    "                'es_EC': 'Ecuador',\n",
    "                'es_PE': 'Peru',\n",
    "                'es_VE': 'Venezuela',\n",
    "                'en_IN': 'India',\n",
    "                'en_ID': 'Indonesia',\n",
    "                'ja_JP': 'Japan',\n",
    "                'en_MY': 'Myanmar',\n",
    "                'en_PH': 'Phillipines',\n",
    "                'en_SG': 'Singapore',\n",
    "                'ko_KR': 'Korea',\n",
    "                'en_TH': 'Thailand',\n",
    "                'tr_TR': 'Turkey',\n",
    "                'de_AT': 'Austria',\n",
    "                'fr_BE': 'Belgium',\n",
    "                'cs_CZ': 'Czech Republic',\n",
    "                'en_DK': 'Denmark',\n",
    "                'en_EE': 'Estonia',\n",
    "                'fi_FI': 'Finland',\n",
    "                'fr_FR': 'France',\n",
    "                'de_DE': 'Germany',\n",
    "                'el_GR': 'Greece',\n",
    "                'hu_HU': 'Hungary',\n",
    "                'en_IE': 'Ireland',\n",
    "                'it_IT': 'Italy',\n",
    "                'en_LV': 'Latvia',\n",
    "                'en_LT': 'Lithuania',\n",
    "                'en_NL': 'Netherlands',\n",
    "                'en_NO': 'Norway',\n",
    "                'pl_PL': 'Poland',\n",
    "                'pt_PT': 'Portugal',\n",
    "                'ro_RO': 'Romania',\n",
    "                'ru_RU': 'Russia',\n",
    "                'es_ES': 'Spain',\n",
    "                'en_SE': 'Sweden',\n",
    "                'de_CH': 'Switzerland',\n",
    "                'en_GB': 'UK',\n",
    "                'en_AU': 'Austria',\n",
    "                'en_NZ': 'New Seland',\n",
    "                'en_ZA': 'South Africa'\n",
    "                }"
   ]
  },
  {
   "cell_type": "code",
   "execution_count": 182,
   "metadata": {
    "ExecuteTime": {
     "end_time": "2021-01-09T22:57:19.186612Z",
     "start_time": "2021-01-09T22:57:19.181625Z"
    }
   },
   "outputs": [],
   "source": [
    "clean_data['Territory'] = clean_data['Territory'].map(territory_map)"
   ]
  },
  {
   "cell_type": "code",
   "execution_count": 183,
   "metadata": {
    "ExecuteTime": {
     "end_time": "2021-01-09T22:57:20.000079Z",
     "start_time": "2021-01-09T22:57:19.988113Z"
    }
   },
   "outputs": [],
   "source": [
    "export = clean_data.sort_values('jw_id')[['Title', 'Territory', 'SVOD']]"
   ]
  }
 ],
 "metadata": {
  "kernelspec": {
   "display_name": "Python 3",
   "language": "python",
   "name": "python3"
  },
  "language_info": {
   "codemirror_mode": {
    "name": "ipython",
    "version": 3
   },
   "file_extension": ".py",
   "mimetype": "text/x-python",
   "name": "python",
   "nbconvert_exporter": "python",
   "pygments_lexer": "ipython3",
   "version": "3.7.3"
  },
  "toc": {
   "base_numbering": 1,
   "nav_menu": {},
   "number_sections": true,
   "sideBar": true,
   "skip_h1_title": false,
   "title_cell": "Table of Contents",
   "title_sidebar": "Contents",
   "toc_cell": false,
   "toc_position": {},
   "toc_section_display": true,
   "toc_window_display": true
  },
  "varInspector": {
   "cols": {
    "lenName": 16,
    "lenType": 16,
    "lenVar": 40
   },
   "kernels_config": {
    "python": {
     "delete_cmd_postfix": "",
     "delete_cmd_prefix": "del ",
     "library": "var_list.py",
     "varRefreshCmd": "print(var_dic_list())"
    },
    "r": {
     "delete_cmd_postfix": ") ",
     "delete_cmd_prefix": "rm(",
     "library": "var_list.r",
     "varRefreshCmd": "cat(var_dic_list()) "
    }
   },
   "types_to_exclude": [
    "module",
    "function",
    "builtin_function_or_method",
    "instance",
    "_Feature"
   ],
   "window_display": false
  }
 },
 "nbformat": 4,
 "nbformat_minor": 2
}
