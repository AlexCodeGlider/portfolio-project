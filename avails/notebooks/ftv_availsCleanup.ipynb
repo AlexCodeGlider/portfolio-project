{
 "cells": [
  {
   "cell_type": "code",
   "execution_count": 1,
   "metadata": {
    "ExecuteTime": {
     "end_time": "2021-01-12T19:10:02.190291Z",
     "start_time": "2021-01-12T19:09:59.100474Z"
    }
   },
   "outputs": [],
   "source": [
    "import pandas as pd\n",
    "import numpy as np\n",
    "import datetime as dt"
   ]
  },
  {
   "cell_type": "code",
   "execution_count": 14,
   "metadata": {
    "ExecuteTime": {
     "end_time": "2021-01-12T19:38:26.324829Z",
     "start_time": "2021-01-12T19:38:26.304887Z"
    }
   },
   "outputs": [],
   "source": [
    "def tidy_split(df, column, sep=',', keep=False):\n",
    "    \"\"\"\n",
    "    Split the values of a column and expand so the new DataFrame has one split\n",
    "    value per row. Filters rows where the column is missing.\n",
    "\n",
    "    Params\n",
    "    ------\n",
    "    df : pandas.DataFrame\n",
    "        dataframe with the column to split and expand\n",
    "    column : str\n",
    "        the column to split and expand\n",
    "    sep : str\n",
    "        the string used to split the column's values\n",
    "    keep : bool\n",
    "        whether to retain the presplit value as it's own row\n",
    "\n",
    "    Returns\n",
    "    -------\n",
    "    pandas.DataFrame\n",
    "        Returns a dataframe with the same columns as `df`.\n",
    "    \"\"\"\n",
    "    indexes = list()\n",
    "    new_values = list()\n",
    "    df = df.dropna(subset=[column])\n",
    "    for i, presplit in enumerate(df[column].astype(str)):\n",
    "        values = presplit.split(sep)\n",
    "        if keep and len(values) > 1:\n",
    "            indexes.append(i)\n",
    "            new_values.append(presplit)\n",
    "        for value in values:\n",
    "            indexes.append(i)\n",
    "            new_values.append(value.strip())\n",
    "    new_df = df.iloc[indexes, :].copy()\n",
    "    new_df[column] = new_values\n",
    "    return new_df"
   ]
  },
  {
   "cell_type": "code",
   "execution_count": 15,
   "metadata": {
    "ExecuteTime": {
     "end_time": "2021-01-12T19:38:26.883206Z",
     "start_time": "2021-01-12T19:38:26.863261Z"
    }
   },
   "outputs": [],
   "source": [
    "def sale_activity(df, suffix=''):\n",
    "    sale_act = tidy_split(df, 'Previous Sale Activity', sep='\\n', keep=False)\n",
    "    sale_act['Previous Sale Activity'] = sale_act['Previous Sale Activity'].str.replace('.', '')\n",
    "    sale_activity_enddates = sale_act['Previous Sale Activity'].str[-11:]\n",
    "    date_dict = {'ene': '01', 'feb': '02', 'mar': '03', 'abr': '04', 'may':'05', 'jun': '06', 'jul': '07', 'ago': '08', 'sep':'09', 'oct': '10', 'nov': '11', 'dic': '12'}\n",
    "    sale_activity_enddates = sale_activity_enddates.replace(date_dict, regex=True)\n",
    "    sale_activity_enddates = sale_activity_enddates.replace('own-Unknown', np.nan).astype('datetime64')\n",
    "    sale_act['end_dates'] = sale_activity_enddates\n",
    "    sale_act['end_dates'].fillna(sale_act['Acq. Expires'], inplace=True)\n",
    "    sale_act['client'] = sale_act['Previous Sale Activity'].str[:-25]\n",
    "    sale_act = sale_act.pivot_table(index='Unique Id', values='end_dates', columns='client', aggfunc=max)\n",
    "    return df.join(sale_act, on='Unique Id', how='left').sort_values(by='Unique Id'), [str(col) + suffix for col in sale_act.columns]"
   ]
  },
  {
   "cell_type": "code",
   "execution_count": 16,
   "metadata": {
    "ExecuteTime": {
     "end_time": "2021-01-12T19:38:28.284745Z",
     "start_time": "2021-01-12T19:38:27.425936Z"
    }
   },
   "outputs": [],
   "source": [
    "ftv_avails = pd.read_excel('C:/Users/aleja/Downloads/Availability by Territory with Reissues - Free TV (22).xlsx', skiprows=1)"
   ]
  },
  {
   "cell_type": "code",
   "execution_count": 17,
   "metadata": {
    "ExecuteTime": {
     "end_time": "2021-01-12T19:38:29.601114Z",
     "start_time": "2021-01-12T19:38:28.446205Z"
    }
   },
   "outputs": [],
   "source": [
    "screeners = pd.read_excel('Z:\\LEDAFILMS\\Alteryx\\Filmtracks\\Project Data ID.xlsx')\n",
    "screeners.dropna(axis=0, subset=['Unique Identifier'], inplace=True)\n",
    "screeners['Unique Id'] = screeners['Unique Identifier'].astype(int)\n",
    "screeners.drop(['Unique Identifier', 'Title', 'Web Site'], axis = 1, inplace=True)\n",
    "\n",
    "ratings = pd.read_excel('Z:\\LEDAFILMS\\Alteryx\\Filmtracks\\Ratings & Titles.xls')\n",
    "ratings.dropna(axis=0, subset=['Unique Identifier'], inplace=True)\n",
    "ratings['Unique Id'] = ratings['Unique Identifier'].astype(int)\n",
    "ratings.drop(['Unique Identifier', 'Title', 'Imdb'], axis = 1, inplace=True)"
   ]
  },
  {
   "cell_type": "code",
   "execution_count": 33,
   "metadata": {
    "ExecuteTime": {
     "end_time": "2021-01-12T19:43:12.237024Z",
     "start_time": "2021-01-12T19:43:11.781510Z"
    }
   },
   "outputs": [
    {
     "name": "stderr",
     "output_type": "stream",
     "text": [
      "C:\\ProgramData\\Anaconda3\\lib\\site-packages\\pandas\\core\\indexing.py:190: SettingWithCopyWarning: \n",
      "A value is trying to be set on a copy of a slice from a DataFrame\n",
      "\n",
      "See the caveats in the documentation: http://pandas.pydata.org/pandas-docs/stable/indexing.html#indexing-view-versus-copy\n",
      "  self._setitem_with_indexer(indexer, value)\n"
     ]
    }
   ],
   "source": [
    "df = ftv_avails\n",
    "df['Year'] = df['Year Completed']\n",
    "mask = df['Holdback'] <= dt.datetime.today()\n",
    "df['Holdback'].loc[mask] = pd.NaT"
   ]
  },
  {
   "cell_type": "code",
   "execution_count": 34,
   "metadata": {
    "ExecuteTime": {
     "end_time": "2021-01-12T19:43:13.015219Z",
     "start_time": "2021-01-12T19:43:12.998266Z"
    }
   },
   "outputs": [],
   "source": [
    "df['First Run or Library'] = df['Is Reissue?'].fillna('First Run')\n",
    "df['First Run or Library'] = df['First Run or Library'].map({'Yes': 'Library', 'First Run': 'First Run'})"
   ]
  },
  {
   "cell_type": "code",
   "execution_count": 35,
   "metadata": {
    "ExecuteTime": {
     "end_time": "2021-01-12T19:43:14.219139Z",
     "start_time": "2021-01-12T19:43:13.916992Z"
    }
   },
   "outputs": [],
   "source": [
    "df, sales = sale_activity(df)\n",
    "df = pd.merge(df, screeners, on='Unique Id', how='left')\n",
    "df = pd.merge(df, ratings, on='Unique Id', how='left')"
   ]
  },
  {
   "cell_type": "code",
   "execution_count": 36,
   "metadata": {
    "ExecuteTime": {
     "end_time": "2021-01-12T19:43:15.107772Z",
     "start_time": "2021-01-12T19:43:14.426081Z"
    }
   },
   "outputs": [],
   "source": [
    "df[sales] = df[sales].apply(lambda x: x.apply(lambda x: str(x)[:10] if str(x) != 'nan' else ''))\n",
    "df[[col for col in df.columns if 'Available' in col]] = df[[col for col in df.columns if 'Available' in col]].apply(lambda x: x.apply(lambda x: pd.Timestamp(x) if type(x) == int else x))\n",
    "df[[col for col in df.columns if 'Available' in col]] = df[[col for col in df.columns if 'Available' in col]].apply(lambda x: x.apply(lambda x: str(x).replace(' 00:00:00', '')))\n",
    "df[[col for col in df.columns if 'Holdback' in col]] = df[[col for col in df.columns if 'Holdback' in col]].apply(lambda x: x.apply(lambda x: str(x).replace(' 00:00:00', '')))\n",
    "df = df.apply(lambda x: x.apply(lambda x: '' if str(x) == 'NaT' else x))"
   ]
  },
  {
   "cell_type": "code",
   "execution_count": 42,
   "metadata": {
    "ExecuteTime": {
     "end_time": "2021-01-12T19:46:57.962705Z",
     "start_time": "2021-01-12T19:46:57.943755Z"
    }
   },
   "outputs": [],
   "source": [
    "cols_ordered = list(df.columns)\n",
    "cols2drop = ['AKA 1', 'AKA 2', 'Original Language', 'Previous Sale Activity', 'Unique Id']\n",
    "for col in cols2drop:\n",
    "    cols_ordered.remove(col)"
   ]
  },
  {
   "cell_type": "code",
   "execution_count": 44,
   "metadata": {
    "ExecuteTime": {
     "end_time": "2021-01-12T19:47:35.281848Z",
     "start_time": "2021-01-12T19:47:35.216026Z"
    }
   },
   "outputs": [
    {
     "data": {
      "text/html": [
       "<div>\n",
       "<style scoped>\n",
       "    .dataframe tbody tr th:only-of-type {\n",
       "        vertical-align: middle;\n",
       "    }\n",
       "\n",
       "    .dataframe tbody tr th {\n",
       "        vertical-align: top;\n",
       "    }\n",
       "\n",
       "    .dataframe thead th {\n",
       "        text-align: right;\n",
       "    }\n",
       "</style>\n",
       "<table border=\"1\" class=\"dataframe\">\n",
       "  <thead>\n",
       "    <tr style=\"text-align: right;\">\n",
       "      <th></th>\n",
       "      <th>Territory</th>\n",
       "      <th>Title</th>\n",
       "      <th>Cast Member</th>\n",
       "      <th>Dialogue Language</th>\n",
       "      <th>Director</th>\n",
       "      <th>Genre</th>\n",
       "      <th>Original Format</th>\n",
       "      <th>Project Type</th>\n",
       "      <th>Subtitle Language</th>\n",
       "      <th>Synopsis</th>\n",
       "      <th>...</th>\n",
       "      <th>El Salvador</th>\n",
       "      <th>Guatemala</th>\n",
       "      <th>Honduras</th>\n",
       "      <th>Nicaragua</th>\n",
       "      <th>Panama</th>\n",
       "      <th>Paraguay</th>\n",
       "      <th>Peru</th>\n",
       "      <th>Dominican Republic</th>\n",
       "      <th>Uruguay</th>\n",
       "      <th>Venezuela</th>\n",
       "    </tr>\n",
       "  </thead>\n",
       "  <tbody>\n",
       "    <tr>\n",
       "      <th>0</th>\n",
       "      <td>Dominican Republic</td>\n",
       "      <td>Robot Overlords</td>\n",
       "      <td>Ben Kingsley, Gillian Anderson, Callan McAuliffe</td>\n",
       "      <td>Portuguese (Cleared), Spanish, English</td>\n",
       "      <td>Jon Wright</td>\n",
       "      <td>Action, Adventure, Sci-Fi</td>\n",
       "      <td>HD File</td>\n",
       "      <td>Film</td>\n",
       "      <td>Portuguese, Spanish</td>\n",
       "      <td>Earth has been conquered by Robots from a dist...</td>\n",
       "      <td>...</td>\n",
       "      <td>NaN</td>\n",
       "      <td>NaN</td>\n",
       "      <td>NaN</td>\n",
       "      <td>NaN</td>\n",
       "      <td>NaN</td>\n",
       "      <td>NaN</td>\n",
       "      <td>A</td>\n",
       "      <td>NaN</td>\n",
       "      <td>NaN</td>\n",
       "      <td>B</td>\n",
       "    </tr>\n",
       "    <tr>\n",
       "      <th>1</th>\n",
       "      <td>El Salvador</td>\n",
       "      <td>Robot Overlords</td>\n",
       "      <td>Ben Kingsley, Gillian Anderson, Callan McAuliffe</td>\n",
       "      <td>Portuguese (Cleared), Spanish, English</td>\n",
       "      <td>Jon Wright</td>\n",
       "      <td>Action, Adventure, Sci-Fi</td>\n",
       "      <td>HD File</td>\n",
       "      <td>Film</td>\n",
       "      <td>Portuguese, Spanish</td>\n",
       "      <td>Earth has been conquered by Robots from a dist...</td>\n",
       "      <td>...</td>\n",
       "      <td>NaN</td>\n",
       "      <td>NaN</td>\n",
       "      <td>NaN</td>\n",
       "      <td>NaN</td>\n",
       "      <td>NaN</td>\n",
       "      <td>NaN</td>\n",
       "      <td>A</td>\n",
       "      <td>NaN</td>\n",
       "      <td>NaN</td>\n",
       "      <td>B</td>\n",
       "    </tr>\n",
       "    <tr>\n",
       "      <th>2</th>\n",
       "      <td>Venezuela</td>\n",
       "      <td>Robot Overlords</td>\n",
       "      <td>Ben Kingsley, Gillian Anderson, Callan McAuliffe</td>\n",
       "      <td>Portuguese (Cleared), Spanish, English</td>\n",
       "      <td>Jon Wright</td>\n",
       "      <td>Action, Adventure, Sci-Fi</td>\n",
       "      <td>HD File</td>\n",
       "      <td>Film</td>\n",
       "      <td>Portuguese, Spanish</td>\n",
       "      <td>Earth has been conquered by Robots from a dist...</td>\n",
       "      <td>...</td>\n",
       "      <td>NaN</td>\n",
       "      <td>NaN</td>\n",
       "      <td>NaN</td>\n",
       "      <td>NaN</td>\n",
       "      <td>NaN</td>\n",
       "      <td>NaN</td>\n",
       "      <td>A</td>\n",
       "      <td>NaN</td>\n",
       "      <td>NaN</td>\n",
       "      <td>B</td>\n",
       "    </tr>\n",
       "    <tr>\n",
       "      <th>3</th>\n",
       "      <td>Honduras</td>\n",
       "      <td>Robot Overlords</td>\n",
       "      <td>Ben Kingsley, Gillian Anderson, Callan McAuliffe</td>\n",
       "      <td>Portuguese (Cleared), Spanish, English</td>\n",
       "      <td>Jon Wright</td>\n",
       "      <td>Action, Adventure, Sci-Fi</td>\n",
       "      <td>HD File</td>\n",
       "      <td>Film</td>\n",
       "      <td>Portuguese, Spanish</td>\n",
       "      <td>Earth has been conquered by Robots from a dist...</td>\n",
       "      <td>...</td>\n",
       "      <td>NaN</td>\n",
       "      <td>NaN</td>\n",
       "      <td>NaN</td>\n",
       "      <td>NaN</td>\n",
       "      <td>NaN</td>\n",
       "      <td>NaN</td>\n",
       "      <td>A</td>\n",
       "      <td>NaN</td>\n",
       "      <td>NaN</td>\n",
       "      <td>B</td>\n",
       "    </tr>\n",
       "    <tr>\n",
       "      <th>4</th>\n",
       "      <td>Costa Rica</td>\n",
       "      <td>Robot Overlords</td>\n",
       "      <td>Ben Kingsley, Gillian Anderson, Callan McAuliffe</td>\n",
       "      <td>Portuguese (Cleared), Spanish, English</td>\n",
       "      <td>Jon Wright</td>\n",
       "      <td>Action, Adventure, Sci-Fi</td>\n",
       "      <td>HD File</td>\n",
       "      <td>Film</td>\n",
       "      <td>Portuguese, Spanish</td>\n",
       "      <td>Earth has been conquered by Robots from a dist...</td>\n",
       "      <td>...</td>\n",
       "      <td>NaN</td>\n",
       "      <td>NaN</td>\n",
       "      <td>NaN</td>\n",
       "      <td>NaN</td>\n",
       "      <td>NaN</td>\n",
       "      <td>NaN</td>\n",
       "      <td>A</td>\n",
       "      <td>NaN</td>\n",
       "      <td>NaN</td>\n",
       "      <td>B</td>\n",
       "    </tr>\n",
       "  </tbody>\n",
       "</table>\n",
       "<p>5 rows × 117 columns</p>\n",
       "</div>"
      ],
      "text/plain": [
       "            Territory            Title  \\\n",
       "0  Dominican Republic  Robot Overlords   \n",
       "1         El Salvador  Robot Overlords   \n",
       "2           Venezuela  Robot Overlords   \n",
       "3            Honduras  Robot Overlords   \n",
       "4          Costa Rica  Robot Overlords   \n",
       "\n",
       "                                        Cast Member  \\\n",
       "0  Ben Kingsley, Gillian Anderson, Callan McAuliffe   \n",
       "1  Ben Kingsley, Gillian Anderson, Callan McAuliffe   \n",
       "2  Ben Kingsley, Gillian Anderson, Callan McAuliffe   \n",
       "3  Ben Kingsley, Gillian Anderson, Callan McAuliffe   \n",
       "4  Ben Kingsley, Gillian Anderson, Callan McAuliffe   \n",
       "\n",
       "                        Dialogue Language    Director  \\\n",
       "0  Portuguese (Cleared), Spanish, English  Jon Wright   \n",
       "1  Portuguese (Cleared), Spanish, English  Jon Wright   \n",
       "2  Portuguese (Cleared), Spanish, English  Jon Wright   \n",
       "3  Portuguese (Cleared), Spanish, English  Jon Wright   \n",
       "4  Portuguese (Cleared), Spanish, English  Jon Wright   \n",
       "\n",
       "                       Genre Original Format Project Type  \\\n",
       "0  Action, Adventure, Sci-Fi         HD File         Film   \n",
       "1  Action, Adventure, Sci-Fi         HD File         Film   \n",
       "2  Action, Adventure, Sci-Fi         HD File         Film   \n",
       "3  Action, Adventure, Sci-Fi         HD File         Film   \n",
       "4  Action, Adventure, Sci-Fi         HD File         Film   \n",
       "\n",
       "     Subtitle Language                                           Synopsis  \\\n",
       "0  Portuguese, Spanish  Earth has been conquered by Robots from a dist...   \n",
       "1  Portuguese, Spanish  Earth has been conquered by Robots from a dist...   \n",
       "2  Portuguese, Spanish  Earth has been conquered by Robots from a dist...   \n",
       "3  Portuguese, Spanish  Earth has been conquered by Robots from a dist...   \n",
       "4  Portuguese, Spanish  Earth has been conquered by Robots from a dist...   \n",
       "\n",
       "   ... El Salvador  Guatemala Honduras Nicaragua Panama Paraguay Peru  \\\n",
       "0  ...         NaN        NaN      NaN       NaN    NaN      NaN    A   \n",
       "1  ...         NaN        NaN      NaN       NaN    NaN      NaN    A   \n",
       "2  ...         NaN        NaN      NaN       NaN    NaN      NaN    A   \n",
       "3  ...         NaN        NaN      NaN       NaN    NaN      NaN    A   \n",
       "4  ...         NaN        NaN      NaN       NaN    NaN      NaN    A   \n",
       "\n",
       "  Dominican Republic  Uruguay Venezuela  \n",
       "0                NaN      NaN         B  \n",
       "1                NaN      NaN         B  \n",
       "2                NaN      NaN         B  \n",
       "3                NaN      NaN         B  \n",
       "4                NaN      NaN         B  \n",
       "\n",
       "[5 rows x 117 columns]"
      ]
     },
     "execution_count": 44,
     "metadata": {},
     "output_type": "execute_result"
    }
   ],
   "source": [
    "df[cols_ordered].head()"
   ]
  },
  {
   "cell_type": "code",
   "execution_count": null,
   "metadata": {},
   "outputs": [],
   "source": []
  }
 ],
 "metadata": {
  "kernelspec": {
   "display_name": "Python 3",
   "language": "python",
   "name": "python3"
  },
  "language_info": {
   "codemirror_mode": {
    "name": "ipython",
    "version": 3
   },
   "file_extension": ".py",
   "mimetype": "text/x-python",
   "name": "python",
   "nbconvert_exporter": "python",
   "pygments_lexer": "ipython3",
   "version": "3.7.3"
  },
  "toc": {
   "base_numbering": 1,
   "nav_menu": {},
   "number_sections": true,
   "sideBar": true,
   "skip_h1_title": false,
   "title_cell": "Table of Contents",
   "title_sidebar": "Contents",
   "toc_cell": false,
   "toc_position": {},
   "toc_section_display": true,
   "toc_window_display": true
  },
  "varInspector": {
   "cols": {
    "lenName": 16,
    "lenType": 16,
    "lenVar": 40
   },
   "kernels_config": {
    "python": {
     "delete_cmd_postfix": "",
     "delete_cmd_prefix": "del ",
     "library": "var_list.py",
     "varRefreshCmd": "print(var_dic_list())"
    },
    "r": {
     "delete_cmd_postfix": ") ",
     "delete_cmd_prefix": "rm(",
     "library": "var_list.r",
     "varRefreshCmd": "cat(var_dic_list()) "
    }
   },
   "types_to_exclude": [
    "module",
    "function",
    "builtin_function_or_method",
    "instance",
    "_Feature"
   ],
   "window_display": false
  }
 },
 "nbformat": 4,
 "nbformat_minor": 2
}
